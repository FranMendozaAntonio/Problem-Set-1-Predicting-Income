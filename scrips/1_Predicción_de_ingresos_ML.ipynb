{
  "cells": [
    {
      "cell_type": "markdown",
      "metadata": {
        "id": "4JJSKZffrbs0"
      },
      "source": [
        "# Predicting wave\n",
        "\n",
        "El objetivo principal del trabajo es predecir el nivel de ingresos por hora de un individuo basándose en diversos atributos personales (edad, sexo, categoría ocupacional, horas trabajadas y nivel educativo máximo alcanzado).\n",
        "\n",
        "Para ello nos basaremos en los datos empleados en este estudio se originan en la Gran Encuesta Integrada de Hogares (GEIH), un relevamiento llevado a cabo por el Departamento Administrativo Nacional de Estadística (DANE) de Colombia.\n",
        "\n",
        "Para fines de este trabajo, necesitamos acceder a esta información mediante 10 bases de datos que contienen variables originales y otras reconstruidas, disponibles en la siguiente página web: https://ignaciomsarmiento.github.io/GEIH2018_sample/. Vamos a realizar dicho acceso empleando técnicas de web scraping."
      ]
    },
    {
      "cell_type": "markdown",
      "source": [
        "### **Step 1. Web Scrapping**"
      ],
      "metadata": {
        "id": "GwGg4at7qcHA"
      }
    },
    {
      "cell_type": "code",
      "execution_count": 2,
      "metadata": {
        "id": "dDZtIYwQcJaK"
      },
      "outputs": [],
      "source": [
        "import requests\n",
        "from bs4 import BeautifulSoup\n",
        "import pandas as pd"
      ]
    },
    {
      "cell_type": "code",
      "execution_count": 3,
      "metadata": {
        "id": "I1MFRM_EgYMw"
      },
      "outputs": [],
      "source": [
        "#Definimos nuestra función para hacer el webscrapping\n",
        "def scrape_table(url, include_headers=True):\n",
        "    # Envía un HTTP request al URL\n",
        "    response = requests.get(url)\n",
        "\n",
        "    # Creamos un objeto para a BeautifulSoup\n",
        "    soup = BeautifulSoup(response.content, 'html.parser')\n",
        "\n",
        "    # Buscamos la tabla que queremos importar del HTML\n",
        "    table = soup.find('table')\n",
        "\n",
        "    # Inicializamos una lista para almacenar los datos importados\n",
        "    data = []\n",
        "\n",
        "    # Extraemos las filas de la tabla\n",
        "    for i, row in enumerate(table.find_all('tr')):\n",
        "        # Ahora los datos\n",
        "        row_data = []\n",
        "        for cell in row.find_all(['th', 'td']):\n",
        "            row_data.append(cell.text.strip())\n",
        "\n",
        "        # Agregamos encabezados condicionalmente solo para la primera URL.\n",
        "        #Esto es para que no se nos importe el nombre de las variables cada vez\n",
        "        #que importamos las bases.\n",
        "        if i == 0 and include_headers:\n",
        "            headers = row_data\n",
        "        else:\n",
        "            data.append(row_data)\n",
        "\n",
        "    # Creamos un marco de datos de Pandas\n",
        "    if include_headers:\n",
        "        df = pd.DataFrame(data, columns=headers)\n",
        "    else:\n",
        "        df = pd.DataFrame(data)\n",
        "\n",
        "    return df"
      ]
    },
    {
      "cell_type": "code",
      "execution_count": 4,
      "metadata": {
        "id": "LRlcom3LgZF4"
      },
      "outputs": [],
      "source": [
        "# Creamos una lista con los 10 URL en los cuales vamos a iterar\n",
        "urls = ['https://ignaciomsarmiento.github.io/GEIH2018_sample/pages/geih_page_1.html',\n",
        "        'https://ignaciomsarmiento.github.io/GEIH2018_sample/pages/geih_page_2.html',\n",
        "        'https://ignaciomsarmiento.github.io/GEIH2018_sample/pages/geih_page_3.html',\n",
        "        'https://ignaciomsarmiento.github.io/GEIH2018_sample/pages/geih_page_4.html',\n",
        "        'https://ignaciomsarmiento.github.io/GEIH2018_sample/pages/geih_page_5.html',\n",
        "        'https://ignaciomsarmiento.github.io/GEIH2018_sample/pages/geih_page_6.html',\n",
        "        'https://ignaciomsarmiento.github.io/GEIH2018_sample/pages/geih_page_7.html',\n",
        "        'https://ignaciomsarmiento.github.io/GEIH2018_sample/pages/geih_page_8.html',\n",
        "        'https://ignaciomsarmiento.github.io/GEIH2018_sample/pages/geih_page_9.html',\n",
        "        'https://ignaciomsarmiento.github.io/GEIH2018_sample/pages/geih_page_10.html',\n",
        "        ]"
      ]
    },
    {
      "cell_type": "code",
      "execution_count": 5,
      "metadata": {
        "id": "I88_uad0geH9"
      },
      "outputs": [],
      "source": [
        "# Creamos un DataFrame vacío para almacenar los resultados\n",
        "final_df = pd.DataFrame()"
      ]
    },
    {
      "cell_type": "code",
      "execution_count": 6,
      "metadata": {
        "id": "fIgF9ROrgenC"
      },
      "outputs": [],
      "source": [
        "# Scrapeamos los URL y concatenamos los resultados\n",
        "for url in urls:\n",
        "    df = scrape_table(url)\n",
        "    final_df = pd.concat([final_df, df], ignore_index=True)"
      ]
    },
    {
      "cell_type": "code",
      "source": [
        "final_df.head()"
      ],
      "metadata": {
        "colab": {
          "base_uri": "https://localhost:8080/",
          "height": 255
        },
        "id": "tCO_O1Xn2TxK",
        "outputId": "dc7a9fcc-f9b9-4b3b-8f3b-9f86457688aa"
      },
      "execution_count": 7,
      "outputs": [
        {
          "output_type": "execute_result",
          "data": {
            "text/plain": [
              "     directorio secuencia_p orden clase dominio mes estrato1 sex age  ...  \\\n",
              "0  1    4514331           1     2     1  BOGOTA   1        2   0  29  ...   \n",
              "1  2    4514331           1     1     1  BOGOTA   1        2   1  36  ...   \n",
              "2  3    4514332           1     4     1  BOGOTA   1        2   1   4  ...   \n",
              "3  4    4514332           1     3     1  BOGOTA   1        2   1   7  ...   \n",
              "4  5    4514332           1     1     1  BOGOTA   1        2   0  32  ...   \n",
              "\n",
              "  y_viaticos_m y_accidentes_m y_salarySec_m y_ingLab_m_ha y_gananciaNeta_m  \\\n",
              "0           NA             NA            NA            NA               NA   \n",
              "1           NA             NA            NA  8404.3203125               NA   \n",
              "2           NA             NA            NA            NA               NA   \n",
              "3           NA             NA            NA            NA               NA   \n",
              "4           NA             NA            NA            NA               NA   \n",
              "\n",
              "  y_gananciaNetaAgro_m y_gananciaIndep_m y_gananciaIndep_m_hu   y_total_m  \\\n",
              "0                   NA                NA                   NA          NA   \n",
              "1                   NA                NA                   NA  1620833.25   \n",
              "2                   NA                NA                   NA          NA   \n",
              "3                   NA                NA                   NA          NA   \n",
              "4                   NA                NA                   NA          NA   \n",
              "\n",
              "   y_total_m_ha  \n",
              "0            NA  \n",
              "1  8404.3203125  \n",
              "2            NA  \n",
              "3            NA  \n",
              "4            NA  \n",
              "\n",
              "[5 rows x 178 columns]"
            ],
            "text/html": [
              "\n",
              "  <div id=\"df-3b08c919-a412-4f19-af48-5e4fef76cf53\" class=\"colab-df-container\">\n",
              "    <div>\n",
              "<style scoped>\n",
              "    .dataframe tbody tr th:only-of-type {\n",
              "        vertical-align: middle;\n",
              "    }\n",
              "\n",
              "    .dataframe tbody tr th {\n",
              "        vertical-align: top;\n",
              "    }\n",
              "\n",
              "    .dataframe thead th {\n",
              "        text-align: right;\n",
              "    }\n",
              "</style>\n",
              "<table border=\"1\" class=\"dataframe\">\n",
              "  <thead>\n",
              "    <tr style=\"text-align: right;\">\n",
              "      <th></th>\n",
              "      <th></th>\n",
              "      <th>directorio</th>\n",
              "      <th>secuencia_p</th>\n",
              "      <th>orden</th>\n",
              "      <th>clase</th>\n",
              "      <th>dominio</th>\n",
              "      <th>mes</th>\n",
              "      <th>estrato1</th>\n",
              "      <th>sex</th>\n",
              "      <th>age</th>\n",
              "      <th>...</th>\n",
              "      <th>y_viaticos_m</th>\n",
              "      <th>y_accidentes_m</th>\n",
              "      <th>y_salarySec_m</th>\n",
              "      <th>y_ingLab_m_ha</th>\n",
              "      <th>y_gananciaNeta_m</th>\n",
              "      <th>y_gananciaNetaAgro_m</th>\n",
              "      <th>y_gananciaIndep_m</th>\n",
              "      <th>y_gananciaIndep_m_hu</th>\n",
              "      <th>y_total_m</th>\n",
              "      <th>y_total_m_ha</th>\n",
              "    </tr>\n",
              "  </thead>\n",
              "  <tbody>\n",
              "    <tr>\n",
              "      <th>0</th>\n",
              "      <td>1</td>\n",
              "      <td>4514331</td>\n",
              "      <td>1</td>\n",
              "      <td>2</td>\n",
              "      <td>1</td>\n",
              "      <td>BOGOTA</td>\n",
              "      <td>1</td>\n",
              "      <td>2</td>\n",
              "      <td>0</td>\n",
              "      <td>29</td>\n",
              "      <td>...</td>\n",
              "      <td>NA</td>\n",
              "      <td>NA</td>\n",
              "      <td>NA</td>\n",
              "      <td>NA</td>\n",
              "      <td>NA</td>\n",
              "      <td>NA</td>\n",
              "      <td>NA</td>\n",
              "      <td>NA</td>\n",
              "      <td>NA</td>\n",
              "      <td>NA</td>\n",
              "    </tr>\n",
              "    <tr>\n",
              "      <th>1</th>\n",
              "      <td>2</td>\n",
              "      <td>4514331</td>\n",
              "      <td>1</td>\n",
              "      <td>1</td>\n",
              "      <td>1</td>\n",
              "      <td>BOGOTA</td>\n",
              "      <td>1</td>\n",
              "      <td>2</td>\n",
              "      <td>1</td>\n",
              "      <td>36</td>\n",
              "      <td>...</td>\n",
              "      <td>NA</td>\n",
              "      <td>NA</td>\n",
              "      <td>NA</td>\n",
              "      <td>8404.3203125</td>\n",
              "      <td>NA</td>\n",
              "      <td>NA</td>\n",
              "      <td>NA</td>\n",
              "      <td>NA</td>\n",
              "      <td>1620833.25</td>\n",
              "      <td>8404.3203125</td>\n",
              "    </tr>\n",
              "    <tr>\n",
              "      <th>2</th>\n",
              "      <td>3</td>\n",
              "      <td>4514332</td>\n",
              "      <td>1</td>\n",
              "      <td>4</td>\n",
              "      <td>1</td>\n",
              "      <td>BOGOTA</td>\n",
              "      <td>1</td>\n",
              "      <td>2</td>\n",
              "      <td>1</td>\n",
              "      <td>4</td>\n",
              "      <td>...</td>\n",
              "      <td>NA</td>\n",
              "      <td>NA</td>\n",
              "      <td>NA</td>\n",
              "      <td>NA</td>\n",
              "      <td>NA</td>\n",
              "      <td>NA</td>\n",
              "      <td>NA</td>\n",
              "      <td>NA</td>\n",
              "      <td>NA</td>\n",
              "      <td>NA</td>\n",
              "    </tr>\n",
              "    <tr>\n",
              "      <th>3</th>\n",
              "      <td>4</td>\n",
              "      <td>4514332</td>\n",
              "      <td>1</td>\n",
              "      <td>3</td>\n",
              "      <td>1</td>\n",
              "      <td>BOGOTA</td>\n",
              "      <td>1</td>\n",
              "      <td>2</td>\n",
              "      <td>1</td>\n",
              "      <td>7</td>\n",
              "      <td>...</td>\n",
              "      <td>NA</td>\n",
              "      <td>NA</td>\n",
              "      <td>NA</td>\n",
              "      <td>NA</td>\n",
              "      <td>NA</td>\n",
              "      <td>NA</td>\n",
              "      <td>NA</td>\n",
              "      <td>NA</td>\n",
              "      <td>NA</td>\n",
              "      <td>NA</td>\n",
              "    </tr>\n",
              "    <tr>\n",
              "      <th>4</th>\n",
              "      <td>5</td>\n",
              "      <td>4514332</td>\n",
              "      <td>1</td>\n",
              "      <td>1</td>\n",
              "      <td>1</td>\n",
              "      <td>BOGOTA</td>\n",
              "      <td>1</td>\n",
              "      <td>2</td>\n",
              "      <td>0</td>\n",
              "      <td>32</td>\n",
              "      <td>...</td>\n",
              "      <td>NA</td>\n",
              "      <td>NA</td>\n",
              "      <td>NA</td>\n",
              "      <td>NA</td>\n",
              "      <td>NA</td>\n",
              "      <td>NA</td>\n",
              "      <td>NA</td>\n",
              "      <td>NA</td>\n",
              "      <td>NA</td>\n",
              "      <td>NA</td>\n",
              "    </tr>\n",
              "  </tbody>\n",
              "</table>\n",
              "<p>5 rows × 178 columns</p>\n",
              "</div>\n",
              "    <div class=\"colab-df-buttons\">\n",
              "\n",
              "  <div class=\"colab-df-container\">\n",
              "    <button class=\"colab-df-convert\" onclick=\"convertToInteractive('df-3b08c919-a412-4f19-af48-5e4fef76cf53')\"\n",
              "            title=\"Convert this dataframe to an interactive table.\"\n",
              "            style=\"display:none;\">\n",
              "\n",
              "  <svg xmlns=\"http://www.w3.org/2000/svg\" height=\"24px\" viewBox=\"0 -960 960 960\">\n",
              "    <path d=\"M120-120v-720h720v720H120Zm60-500h600v-160H180v160Zm220 220h160v-160H400v160Zm0 220h160v-160H400v160ZM180-400h160v-160H180v160Zm440 0h160v-160H620v160ZM180-180h160v-160H180v160Zm440 0h160v-160H620v160Z\"/>\n",
              "  </svg>\n",
              "    </button>\n",
              "\n",
              "  <style>\n",
              "    .colab-df-container {\n",
              "      display:flex;\n",
              "      gap: 12px;\n",
              "    }\n",
              "\n",
              "    .colab-df-convert {\n",
              "      background-color: #E8F0FE;\n",
              "      border: none;\n",
              "      border-radius: 50%;\n",
              "      cursor: pointer;\n",
              "      display: none;\n",
              "      fill: #1967D2;\n",
              "      height: 32px;\n",
              "      padding: 0 0 0 0;\n",
              "      width: 32px;\n",
              "    }\n",
              "\n",
              "    .colab-df-convert:hover {\n",
              "      background-color: #E2EBFA;\n",
              "      box-shadow: 0px 1px 2px rgba(60, 64, 67, 0.3), 0px 1px 3px 1px rgba(60, 64, 67, 0.15);\n",
              "      fill: #174EA6;\n",
              "    }\n",
              "\n",
              "    .colab-df-buttons div {\n",
              "      margin-bottom: 4px;\n",
              "    }\n",
              "\n",
              "    [theme=dark] .colab-df-convert {\n",
              "      background-color: #3B4455;\n",
              "      fill: #D2E3FC;\n",
              "    }\n",
              "\n",
              "    [theme=dark] .colab-df-convert:hover {\n",
              "      background-color: #434B5C;\n",
              "      box-shadow: 0px 1px 3px 1px rgba(0, 0, 0, 0.15);\n",
              "      filter: drop-shadow(0px 1px 2px rgba(0, 0, 0, 0.3));\n",
              "      fill: #FFFFFF;\n",
              "    }\n",
              "  </style>\n",
              "\n",
              "    <script>\n",
              "      const buttonEl =\n",
              "        document.querySelector('#df-3b08c919-a412-4f19-af48-5e4fef76cf53 button.colab-df-convert');\n",
              "      buttonEl.style.display =\n",
              "        google.colab.kernel.accessAllowed ? 'block' : 'none';\n",
              "\n",
              "      async function convertToInteractive(key) {\n",
              "        const element = document.querySelector('#df-3b08c919-a412-4f19-af48-5e4fef76cf53');\n",
              "        const dataTable =\n",
              "          await google.colab.kernel.invokeFunction('convertToInteractive',\n",
              "                                                    [key], {});\n",
              "        if (!dataTable) return;\n",
              "\n",
              "        const docLinkHtml = 'Like what you see? Visit the ' +\n",
              "          '<a target=\"_blank\" href=https://colab.research.google.com/notebooks/data_table.ipynb>data table notebook</a>'\n",
              "          + ' to learn more about interactive tables.';\n",
              "        element.innerHTML = '';\n",
              "        dataTable['output_type'] = 'display_data';\n",
              "        await google.colab.output.renderOutput(dataTable, element);\n",
              "        const docLink = document.createElement('div');\n",
              "        docLink.innerHTML = docLinkHtml;\n",
              "        element.appendChild(docLink);\n",
              "      }\n",
              "    </script>\n",
              "  </div>\n",
              "\n",
              "\n",
              "<div id=\"df-850936ea-feb2-4f6d-bea2-d244642f0ebc\">\n",
              "  <button class=\"colab-df-quickchart\" onclick=\"quickchart('df-850936ea-feb2-4f6d-bea2-d244642f0ebc')\"\n",
              "            title=\"Suggest charts\"\n",
              "            style=\"display:none;\">\n",
              "\n",
              "<svg xmlns=\"http://www.w3.org/2000/svg\" height=\"24px\"viewBox=\"0 0 24 24\"\n",
              "     width=\"24px\">\n",
              "    <g>\n",
              "        <path d=\"M19 3H5c-1.1 0-2 .9-2 2v14c0 1.1.9 2 2 2h14c1.1 0 2-.9 2-2V5c0-1.1-.9-2-2-2zM9 17H7v-7h2v7zm4 0h-2V7h2v10zm4 0h-2v-4h2v4z\"/>\n",
              "    </g>\n",
              "</svg>\n",
              "  </button>\n",
              "\n",
              "<style>\n",
              "  .colab-df-quickchart {\n",
              "      --bg-color: #E8F0FE;\n",
              "      --fill-color: #1967D2;\n",
              "      --hover-bg-color: #E2EBFA;\n",
              "      --hover-fill-color: #174EA6;\n",
              "      --disabled-fill-color: #AAA;\n",
              "      --disabled-bg-color: #DDD;\n",
              "  }\n",
              "\n",
              "  [theme=dark] .colab-df-quickchart {\n",
              "      --bg-color: #3B4455;\n",
              "      --fill-color: #D2E3FC;\n",
              "      --hover-bg-color: #434B5C;\n",
              "      --hover-fill-color: #FFFFFF;\n",
              "      --disabled-bg-color: #3B4455;\n",
              "      --disabled-fill-color: #666;\n",
              "  }\n",
              "\n",
              "  .colab-df-quickchart {\n",
              "    background-color: var(--bg-color);\n",
              "    border: none;\n",
              "    border-radius: 50%;\n",
              "    cursor: pointer;\n",
              "    display: none;\n",
              "    fill: var(--fill-color);\n",
              "    height: 32px;\n",
              "    padding: 0;\n",
              "    width: 32px;\n",
              "  }\n",
              "\n",
              "  .colab-df-quickchart:hover {\n",
              "    background-color: var(--hover-bg-color);\n",
              "    box-shadow: 0 1px 2px rgba(60, 64, 67, 0.3), 0 1px 3px 1px rgba(60, 64, 67, 0.15);\n",
              "    fill: var(--button-hover-fill-color);\n",
              "  }\n",
              "\n",
              "  .colab-df-quickchart-complete:disabled,\n",
              "  .colab-df-quickchart-complete:disabled:hover {\n",
              "    background-color: var(--disabled-bg-color);\n",
              "    fill: var(--disabled-fill-color);\n",
              "    box-shadow: none;\n",
              "  }\n",
              "\n",
              "  .colab-df-spinner {\n",
              "    border: 2px solid var(--fill-color);\n",
              "    border-color: transparent;\n",
              "    border-bottom-color: var(--fill-color);\n",
              "    animation:\n",
              "      spin 1s steps(1) infinite;\n",
              "  }\n",
              "\n",
              "  @keyframes spin {\n",
              "    0% {\n",
              "      border-color: transparent;\n",
              "      border-bottom-color: var(--fill-color);\n",
              "      border-left-color: var(--fill-color);\n",
              "    }\n",
              "    20% {\n",
              "      border-color: transparent;\n",
              "      border-left-color: var(--fill-color);\n",
              "      border-top-color: var(--fill-color);\n",
              "    }\n",
              "    30% {\n",
              "      border-color: transparent;\n",
              "      border-left-color: var(--fill-color);\n",
              "      border-top-color: var(--fill-color);\n",
              "      border-right-color: var(--fill-color);\n",
              "    }\n",
              "    40% {\n",
              "      border-color: transparent;\n",
              "      border-right-color: var(--fill-color);\n",
              "      border-top-color: var(--fill-color);\n",
              "    }\n",
              "    60% {\n",
              "      border-color: transparent;\n",
              "      border-right-color: var(--fill-color);\n",
              "    }\n",
              "    80% {\n",
              "      border-color: transparent;\n",
              "      border-right-color: var(--fill-color);\n",
              "      border-bottom-color: var(--fill-color);\n",
              "    }\n",
              "    90% {\n",
              "      border-color: transparent;\n",
              "      border-bottom-color: var(--fill-color);\n",
              "    }\n",
              "  }\n",
              "</style>\n",
              "\n",
              "  <script>\n",
              "    async function quickchart(key) {\n",
              "      const quickchartButtonEl =\n",
              "        document.querySelector('#' + key + ' button');\n",
              "      quickchartButtonEl.disabled = true;  // To prevent multiple clicks.\n",
              "      quickchartButtonEl.classList.add('colab-df-spinner');\n",
              "      try {\n",
              "        const charts = await google.colab.kernel.invokeFunction(\n",
              "            'suggestCharts', [key], {});\n",
              "      } catch (error) {\n",
              "        console.error('Error during call to suggestCharts:', error);\n",
              "      }\n",
              "      quickchartButtonEl.classList.remove('colab-df-spinner');\n",
              "      quickchartButtonEl.classList.add('colab-df-quickchart-complete');\n",
              "    }\n",
              "    (() => {\n",
              "      let quickchartButtonEl =\n",
              "        document.querySelector('#df-850936ea-feb2-4f6d-bea2-d244642f0ebc button');\n",
              "      quickchartButtonEl.style.display =\n",
              "        google.colab.kernel.accessAllowed ? 'block' : 'none';\n",
              "    })();\n",
              "  </script>\n",
              "</div>\n",
              "    </div>\n",
              "  </div>\n"
            ]
          },
          "metadata": {},
          "execution_count": 7
        }
      ]
    },
    {
      "cell_type": "code",
      "source": [
        "# Mostrar el número de observaciones en el DF por control\n",
        "num_observaciones = final_df.shape[0]\n",
        "print(\"Número de observaciones:\", num_observaciones)"
      ],
      "metadata": {
        "colab": {
          "base_uri": "https://localhost:8080/"
        },
        "id": "SfeyQc9A-rDD",
        "outputId": "14ab1249-029f-4f9f-b285-9ef96d95ca5d"
      },
      "execution_count": 8,
      "outputs": [
        {
          "output_type": "stream",
          "name": "stdout",
          "text": [
            "Número de observaciones: 32177\n"
          ]
        }
      ]
    },
    {
      "cell_type": "markdown",
      "metadata": {
        "id": "YK39OrhCpsYE"
      },
      "source": [
        "### **Step 2. Trabajo de limpieza de datos**\n"
      ]
    },
    {
      "cell_type": "code",
      "source": [
        "#Primero hacemos una copia por seguridad\n",
        "df_copia = final_df.copy()"
      ],
      "metadata": {
        "id": "ybP0Ns_oeQkW"
      },
      "execution_count": 9,
      "outputs": []
    },
    {
      "cell_type": "code",
      "source": [
        "#Eliminamos observaciones sin datos\n",
        "import numpy as np\n",
        "# Reemplazar \"NA\" con NaN en la columna 'y_salary_m_hu' que es la de salario horario\n",
        "df_copia['y_salary_m_hu'] = df_copia['y_salary_m_hu'].replace(\"NA\", np.nan)\n",
        "# Convertir la columna 'y_salary_m_hu' a tipo numérico\n",
        "df_copia['y_salary_m_hu'] = pd.to_numeric(df_copia['y_salary_m_hu'], errors='coerce')\n",
        "# Eliminar filas con NaN en la columna 'y_salary_m_hu'\n",
        "df_copia = df_copia.dropna(subset=['y_salary_m_hu'])"
      ],
      "metadata": {
        "id": "POaT7GbpC6j1"
      },
      "execution_count": 10,
      "outputs": []
    },
    {
      "cell_type": "code",
      "execution_count": 11,
      "metadata": {
        "id": "W-VU9CScprU4"
      },
      "outputs": [],
      "source": [
        "#Elimiar individuos menores de 18 años\n",
        "#Convertimos a numérica\n",
        "df_copia['age'] = pd.to_numeric(df_copia['age'], errors='coerce')\n",
        "# Aplicamos filtro\n",
        "df_copia = df_copia[df_copia['age'] > 18]"
      ]
    },
    {
      "cell_type": "code",
      "source": [
        "#Eliminamos observaciones con ingresos cero o sin datos\n",
        "df_copia['y_salary_m_hu'] = pd.to_numeric(df_copia['y_salary_m_hu'], errors='coerce')\n",
        "df_copia = df_copia[df_copia['y_salary_m_hu'] > 0]"
      ],
      "metadata": {
        "id": "c4EmM9VgXhyD"
      },
      "execution_count": 12,
      "outputs": []
    },
    {
      "cell_type": "code",
      "source": [
        "#Convertimos a logaritmo la variable de ingreso\n",
        "df_copia['ingresos_log'] = np.log(df_copia['y_salary_m_hu'])"
      ],
      "metadata": {
        "id": "Rrw5TUnBkHXZ"
      },
      "execution_count": 13,
      "outputs": []
    },
    {
      "cell_type": "code",
      "source": [
        "# Mostrar el número de observaciones en el DF por control\n",
        "num_observaciones = df_copia.shape[0]\n",
        "print(\"Número de observaciones:\", num_observaciones)"
      ],
      "metadata": {
        "colab": {
          "base_uri": "https://localhost:8080/"
        },
        "id": "UAkU2lrofetr",
        "outputId": "808c5359-e61b-4a51-aabd-bbc223d291c0"
      },
      "execution_count": 16,
      "outputs": [
        {
          "output_type": "stream",
          "name": "stdout",
          "text": [
            "Número de observaciones: 9785\n"
          ]
        }
      ]
    },
    {
      "cell_type": "markdown",
      "source": [
        "### **Step 3. Análisis descriptivos**\n",
        "\n"
      ],
      "metadata": {
        "id": "Dwa9Xl_FePHS"
      }
    },
    {
      "cell_type": "code",
      "source": [
        "## Estadísticos básicos de la variable ingresos\n",
        "descripcion = df_copia['y_salary_m_hu'].describe()\n",
        "print(descripcion)"
      ],
      "metadata": {
        "id": "xgo_M2TEikQw",
        "colab": {
          "base_uri": "https://localhost:8080/"
        },
        "outputId": "eff50ca0-86ea-4323-976b-87c8448896db"
      },
      "execution_count": 17,
      "outputs": [
        {
          "output_type": "stream",
          "name": "stdout",
          "text": [
            "count      9785.000000\n",
            "mean       7984.262071\n",
            "std       11629.426704\n",
            "min         151.909729\n",
            "25%        3797.704102\n",
            "50%        4520.833496\n",
            "75%        7291.666504\n",
            "max      291666.656250\n",
            "Name: y_salary_m_hu, dtype: float64\n"
          ]
        }
      ]
    },
    {
      "cell_type": "code",
      "source": [
        "## Media de edad de la muestra\n",
        "media_edad = df_copia['age'].mean()\n",
        "\n",
        "# Imprime la media de la edad\n",
        "print(f\"La media de la edad es: {media_edad:.2f}\")"
      ],
      "metadata": {
        "id": "rDuTuK4Minsy",
        "colab": {
          "base_uri": "https://localhost:8080/"
        },
        "outputId": "cdfd1039-031d-4807-f476-7e34b4793d20"
      },
      "execution_count": 18,
      "outputs": [
        {
          "output_type": "stream",
          "name": "stdout",
          "text": [
            "La media de la edad es: 36.44\n"
          ]
        }
      ]
    },
    {
      "cell_type": "code",
      "source": [
        "## % hombres en la muestra\n",
        "\n",
        "# Convertir la columna 'sex' a tipo numérico\n",
        "df_copia['sex'] = pd.to_numeric(df_copia['sex'], errors='coerce')\n",
        "\n",
        "total_hombres = df_copia['sex'].sum()\n",
        "total_muestra = len(df_copia['sex'])\n",
        "\n",
        "if total_muestra == 0:\n",
        "    print(\"No hay datos en la muestra.\")\n",
        "else:\n",
        "    porcentaje_hombres = (total_hombres / total_muestra) * 100\n",
        "    print(f\"Porcentaje de hombres en la muestra: {porcentaje_hombres:.2f}%\")\n"
      ],
      "metadata": {
        "colab": {
          "base_uri": "https://localhost:8080/"
        },
        "id": "W06QAi5je86D",
        "outputId": "e3f8b6fb-6f44-4751-95f7-680366fbfbdf"
      },
      "execution_count": 19,
      "outputs": [
        {
          "output_type": "stream",
          "name": "stdout",
          "text": [
            "Porcentaje de hombres en la muestra: 50.18%\n"
          ]
        }
      ]
    },
    {
      "cell_type": "code",
      "source": [
        "## % ocupados formales en la muestra\n",
        "\n",
        "# Convertir la columna 'formal' a tipo numérico\n",
        "df_copia['formal'] = pd.to_numeric(df_copia['formal'], errors='coerce')\n",
        "\n",
        "total_ocupados = df_copia['formal'].sum()\n",
        "total_muestra_ocupados = len(df_copia['formal'])\n",
        "\n",
        "if total_muestra_ocupados == 0:\n",
        "    print(\"No hay datos en la muestra.\")\n",
        "else:\n",
        "    porcentaje_ocupados = (total_ocupados / total_muestra) * 100\n",
        "    print(f\"Porcentaje de ocupados formales en la muestra: {porcentaje_ocupados:.2f}%\")\n"
      ],
      "metadata": {
        "colab": {
          "base_uri": "https://localhost:8080/"
        },
        "id": "hUfqGtoYhe1b",
        "outputId": "48fa0ad4-3a33-47b3-d078-8cf45b4d1623"
      },
      "execution_count": 20,
      "outputs": [
        {
          "output_type": "stream",
          "name": "stdout",
          "text": [
            "Porcentaje de ocupados formales en la muestra: 77.28%\n"
          ]
        }
      ]
    },
    {
      "cell_type": "code",
      "source": [
        "categorias_p6210 = df_copia['p6210'].unique()\n",
        "\n",
        "# Imprime las categorías únicas\n",
        "print(categorias_p6210)"
      ],
      "metadata": {
        "colab": {
          "base_uri": "https://localhost:8080/"
        },
        "id": "8jumbRULK2LU",
        "outputId": "f136aeb6-35dc-49e5-bf9b-b597cccd5852"
      },
      "execution_count": 21,
      "outputs": [
        {
          "output_type": "stream",
          "name": "stdout",
          "text": [
            "['5' '6' '3' '4' '1' '9']\n"
          ]
        }
      ]
    },
    {
      "cell_type": "code",
      "source": [
        "df_copia['educ_none'] = (df_copia['p6210'].astype(str).str.strip() == '1').astype(int)\n",
        "df_copia['educ_primary'] = (df_copia['p6210'].astype(str).str.strip() == '3').astype(int)\n",
        "df_copia['educ_secundary'] = (df_copia['p6210'].astype(str).str.strip() == '4').astype(int)\n",
        "df_copia['educ_media'] = (df_copia['p6210'].astype(str).str.strip() == '5').astype(int)\n",
        "df_copia['educ_univ'] = (df_copia['p6210'].astype(str).str.strip() == '6').astype(int)\n",
        "df_copia['educ_nodata'] = (df_copia['p6210'].astype(str).str.strip() == '9').astype(int)"
      ],
      "metadata": {
        "id": "Qm3KoEFfK_7j"
      },
      "execution_count": 22,
      "outputs": []
    },
    {
      "cell_type": "code",
      "source": [
        "df_copia['hoursWorkUsual'] = pd.to_numeric(df_copia['hoursWorkUsual'], errors='coerce')\n",
        "horas_trabajadas = df_copia['hoursWorkUsual'].describe()\n",
        "print(horas_trabajadas)"
      ],
      "metadata": {
        "colab": {
          "base_uri": "https://localhost:8080/"
        },
        "id": "3un-wwyn4P-m",
        "outputId": "08d621de-dfbc-4163-995f-c7fadd6b98d3"
      },
      "execution_count": 24,
      "outputs": [
        {
          "output_type": "stream",
          "name": "stdout",
          "text": [
            "count    9785.000000\n",
            "mean       48.081451\n",
            "std        12.061771\n",
            "min         1.000000\n",
            "25%        48.000000\n",
            "50%        48.000000\n",
            "75%        48.000000\n",
            "max       130.000000\n",
            "Name: hoursWorkUsual, dtype: float64\n"
          ]
        }
      ]
    },
    {
      "cell_type": "markdown",
      "source": [
        "### **Step 4. Tareas de predicción**\n"
      ],
      "metadata": {
        "id": "yLXiUHqYRaHh"
      }
    },
    {
      "cell_type": "markdown",
      "source": [
        "**4.1 Primeras predicciones en muestra**"
      ],
      "metadata": {
        "id": "Q9Et69U8Hx6B"
      }
    },
    {
      "cell_type": "code",
      "source": [
        "%matplotlib inline\n",
        "import pandas as pd\n",
        "import numpy as np\n",
        "from sklearn.linear_model import LinearRegression\n",
        "import matplotlib.pyplot as plt\n",
        "import warnings\n",
        "warnings.filterwarnings('ignore')\n",
        "plt.style.use('seaborn-whitegrid')\n",
        "from statsmodels.formula.api import ols"
      ],
      "metadata": {
        "id": "qbGVQaqWHw3D"
      },
      "execution_count": 25,
      "outputs": []
    },
    {
      "cell_type": "code",
      "source": [
        "#Creamos nueva variable para la edad\n",
        "df_copia['age2'] = df_copia['age'] ** 2"
      ],
      "metadata": {
        "id": "hYzFiJTqJRH2"
      },
      "execution_count": 26,
      "outputs": []
    },
    {
      "cell_type": "code",
      "source": [
        "#Hacemos regresión lineal tradicional\n",
        "reg_statsmodels = ols(\"ingresos_log~age+age2+sex+formal+hoursWorkUsual+educ_primary+educ_secundary+educ_media+educ_univ+educ_nodata\", data = df_copia).fit()\n",
        "print(reg_statsmodels.summary())"
      ],
      "metadata": {
        "colab": {
          "base_uri": "https://localhost:8080/"
        },
        "id": "SkliUSlnH096",
        "outputId": "0d4ebc0a-f36f-4d86-c830-95addddc5ef1"
      },
      "execution_count": 27,
      "outputs": [
        {
          "output_type": "stream",
          "name": "stdout",
          "text": [
            "                            OLS Regression Results                            \n",
            "==============================================================================\n",
            "Dep. Variable:           ingresos_log   R-squared:                       0.395\n",
            "Model:                            OLS   Adj. R-squared:                  0.394\n",
            "Method:                 Least Squares   F-statistic:                     637.8\n",
            "Date:                Sun, 19 Nov 2023   Prob (F-statistic):               0.00\n",
            "Time:                        11:19:09   Log-Likelihood:                -8225.7\n",
            "No. Observations:                9785   AIC:                         1.647e+04\n",
            "Df Residuals:                    9774   BIC:                         1.655e+04\n",
            "Df Model:                          10                                         \n",
            "Covariance Type:            nonrobust                                         \n",
            "==================================================================================\n",
            "                     coef    std err          t      P>|t|      [0.025      0.975]\n",
            "----------------------------------------------------------------------------------\n",
            "Intercept          7.0174      0.102     69.115      0.000       6.818       7.216\n",
            "age                0.0501      0.003     16.790      0.000       0.044       0.056\n",
            "age2              -0.0005   3.68e-05    -12.687      0.000      -0.001      -0.000\n",
            "sex                0.1629      0.012     14.017      0.000       0.140       0.186\n",
            "formal             0.3668      0.014     25.337      0.000       0.338       0.395\n",
            "hoursWorkUsual    -0.0111      0.000    -22.692      0.000      -0.012      -0.010\n",
            "educ_primary       0.2093      0.086      2.445      0.015       0.042       0.377\n",
            "educ_secundary     0.2588      0.086      3.013      0.003       0.090       0.427\n",
            "educ_media         0.3872      0.085      4.566      0.000       0.221       0.553\n",
            "educ_univ          1.0021      0.085     11.812      0.000       0.836       1.168\n",
            "educ_nodata        0.0271      0.568      0.048      0.962      -1.085       1.140\n",
            "==============================================================================\n",
            "Omnibus:                     1298.656   Durbin-Watson:                   1.736\n",
            "Prob(Omnibus):                  0.000   Jarque-Bera (JB):             3895.410\n",
            "Skew:                           0.702   Prob(JB):                         0.00\n",
            "Kurtosis:                       5.754   Cond. No.                     1.77e+05\n",
            "==============================================================================\n",
            "\n",
            "Notes:\n",
            "[1] Standard Errors assume that the covariance matrix of the errors is correctly specified.\n",
            "[2] The condition number is large, 1.77e+05. This might indicate that there are\n",
            "strong multicollinearity or other numerical problems.\n"
          ]
        }
      ]
    },
    {
      "cell_type": "markdown",
      "source": [
        "**4.2 Predicciones fuera de muestra**"
      ],
      "metadata": {
        "id": "bVxWuujpH1Ln"
      }
    },
    {
      "cell_type": "code",
      "source": [
        "from sklearn.linear_model import LinearRegression\n",
        "from sklearn.model_selection import train_test_split"
      ],
      "metadata": {
        "id": "jr6SsVnVk_GW"
      },
      "execution_count": 37,
      "outputs": []
    },
    {
      "cell_type": "code",
      "source": [
        "X = df_copia[[ \"age\", \"age2\", \"sex\", \"formal\", \"hoursWorkUsual\", \"educ_primary\", \"educ_secundary\", \"educ_media\", \"educ_univ\", \"educ_nodata\",]]\n",
        "\n",
        "Y = df_copia[[\"ingresos_log\"]]"
      ],
      "metadata": {
        "id": "lJ7oOJscRlF2"
      },
      "execution_count": 38,
      "outputs": []
    },
    {
      "cell_type": "code",
      "source": [
        "X.describe()"
      ],
      "metadata": {
        "colab": {
          "base_uri": "https://localhost:8080/",
          "height": 300
        },
        "id": "eaDznW-C6F1L",
        "outputId": "e2f77860-2811-4501-8396-249ec7065617"
      },
      "execution_count": 39,
      "outputs": [
        {
          "output_type": "execute_result",
          "data": {
            "text/plain": [
              "               age         age2          sex       formal  hoursWorkUsual  \\\n",
              "count  9785.000000  9785.000000  9785.000000  9785.000000     9785.000000   \n",
              "mean     36.438324  1470.225958     0.501788     0.772816       48.081451   \n",
              "std      11.936878   969.935752     0.500022     0.419034       12.061771   \n",
              "min      19.000000   361.000000     0.000000     0.000000        1.000000   \n",
              "25%      27.000000   729.000000     0.000000     1.000000       48.000000   \n",
              "50%      34.000000  1156.000000     1.000000     1.000000       48.000000   \n",
              "75%      45.000000  2025.000000     1.000000     1.000000       48.000000   \n",
              "max      86.000000  7396.000000     1.000000     1.000000      130.000000   \n",
              "\n",
              "       educ_primary  educ_secundary   educ_media    educ_univ  educ_nodata  \n",
              "count   9785.000000     9785.000000  9785.000000  9785.000000  9785.000000  \n",
              "mean       0.103117        0.094124     0.343996     0.454062     0.000102  \n",
              "std        0.304127        0.292016     0.475064     0.497911     0.010109  \n",
              "min        0.000000        0.000000     0.000000     0.000000     0.000000  \n",
              "25%        0.000000        0.000000     0.000000     0.000000     0.000000  \n",
              "50%        0.000000        0.000000     0.000000     0.000000     0.000000  \n",
              "75%        0.000000        0.000000     1.000000     1.000000     0.000000  \n",
              "max        1.000000        1.000000     1.000000     1.000000     1.000000  "
            ],
            "text/html": [
              "\n",
              "  <div id=\"df-d66b8eaf-9a6b-47a7-b698-97f1e14649dd\" class=\"colab-df-container\">\n",
              "    <div>\n",
              "<style scoped>\n",
              "    .dataframe tbody tr th:only-of-type {\n",
              "        vertical-align: middle;\n",
              "    }\n",
              "\n",
              "    .dataframe tbody tr th {\n",
              "        vertical-align: top;\n",
              "    }\n",
              "\n",
              "    .dataframe thead th {\n",
              "        text-align: right;\n",
              "    }\n",
              "</style>\n",
              "<table border=\"1\" class=\"dataframe\">\n",
              "  <thead>\n",
              "    <tr style=\"text-align: right;\">\n",
              "      <th></th>\n",
              "      <th>age</th>\n",
              "      <th>age2</th>\n",
              "      <th>sex</th>\n",
              "      <th>formal</th>\n",
              "      <th>hoursWorkUsual</th>\n",
              "      <th>educ_primary</th>\n",
              "      <th>educ_secundary</th>\n",
              "      <th>educ_media</th>\n",
              "      <th>educ_univ</th>\n",
              "      <th>educ_nodata</th>\n",
              "    </tr>\n",
              "  </thead>\n",
              "  <tbody>\n",
              "    <tr>\n",
              "      <th>count</th>\n",
              "      <td>9785.000000</td>\n",
              "      <td>9785.000000</td>\n",
              "      <td>9785.000000</td>\n",
              "      <td>9785.000000</td>\n",
              "      <td>9785.000000</td>\n",
              "      <td>9785.000000</td>\n",
              "      <td>9785.000000</td>\n",
              "      <td>9785.000000</td>\n",
              "      <td>9785.000000</td>\n",
              "      <td>9785.000000</td>\n",
              "    </tr>\n",
              "    <tr>\n",
              "      <th>mean</th>\n",
              "      <td>36.438324</td>\n",
              "      <td>1470.225958</td>\n",
              "      <td>0.501788</td>\n",
              "      <td>0.772816</td>\n",
              "      <td>48.081451</td>\n",
              "      <td>0.103117</td>\n",
              "      <td>0.094124</td>\n",
              "      <td>0.343996</td>\n",
              "      <td>0.454062</td>\n",
              "      <td>0.000102</td>\n",
              "    </tr>\n",
              "    <tr>\n",
              "      <th>std</th>\n",
              "      <td>11.936878</td>\n",
              "      <td>969.935752</td>\n",
              "      <td>0.500022</td>\n",
              "      <td>0.419034</td>\n",
              "      <td>12.061771</td>\n",
              "      <td>0.304127</td>\n",
              "      <td>0.292016</td>\n",
              "      <td>0.475064</td>\n",
              "      <td>0.497911</td>\n",
              "      <td>0.010109</td>\n",
              "    </tr>\n",
              "    <tr>\n",
              "      <th>min</th>\n",
              "      <td>19.000000</td>\n",
              "      <td>361.000000</td>\n",
              "      <td>0.000000</td>\n",
              "      <td>0.000000</td>\n",
              "      <td>1.000000</td>\n",
              "      <td>0.000000</td>\n",
              "      <td>0.000000</td>\n",
              "      <td>0.000000</td>\n",
              "      <td>0.000000</td>\n",
              "      <td>0.000000</td>\n",
              "    </tr>\n",
              "    <tr>\n",
              "      <th>25%</th>\n",
              "      <td>27.000000</td>\n",
              "      <td>729.000000</td>\n",
              "      <td>0.000000</td>\n",
              "      <td>1.000000</td>\n",
              "      <td>48.000000</td>\n",
              "      <td>0.000000</td>\n",
              "      <td>0.000000</td>\n",
              "      <td>0.000000</td>\n",
              "      <td>0.000000</td>\n",
              "      <td>0.000000</td>\n",
              "    </tr>\n",
              "    <tr>\n",
              "      <th>50%</th>\n",
              "      <td>34.000000</td>\n",
              "      <td>1156.000000</td>\n",
              "      <td>1.000000</td>\n",
              "      <td>1.000000</td>\n",
              "      <td>48.000000</td>\n",
              "      <td>0.000000</td>\n",
              "      <td>0.000000</td>\n",
              "      <td>0.000000</td>\n",
              "      <td>0.000000</td>\n",
              "      <td>0.000000</td>\n",
              "    </tr>\n",
              "    <tr>\n",
              "      <th>75%</th>\n",
              "      <td>45.000000</td>\n",
              "      <td>2025.000000</td>\n",
              "      <td>1.000000</td>\n",
              "      <td>1.000000</td>\n",
              "      <td>48.000000</td>\n",
              "      <td>0.000000</td>\n",
              "      <td>0.000000</td>\n",
              "      <td>1.000000</td>\n",
              "      <td>1.000000</td>\n",
              "      <td>0.000000</td>\n",
              "    </tr>\n",
              "    <tr>\n",
              "      <th>max</th>\n",
              "      <td>86.000000</td>\n",
              "      <td>7396.000000</td>\n",
              "      <td>1.000000</td>\n",
              "      <td>1.000000</td>\n",
              "      <td>130.000000</td>\n",
              "      <td>1.000000</td>\n",
              "      <td>1.000000</td>\n",
              "      <td>1.000000</td>\n",
              "      <td>1.000000</td>\n",
              "      <td>1.000000</td>\n",
              "    </tr>\n",
              "  </tbody>\n",
              "</table>\n",
              "</div>\n",
              "    <div class=\"colab-df-buttons\">\n",
              "\n",
              "  <div class=\"colab-df-container\">\n",
              "    <button class=\"colab-df-convert\" onclick=\"convertToInteractive('df-d66b8eaf-9a6b-47a7-b698-97f1e14649dd')\"\n",
              "            title=\"Convert this dataframe to an interactive table.\"\n",
              "            style=\"display:none;\">\n",
              "\n",
              "  <svg xmlns=\"http://www.w3.org/2000/svg\" height=\"24px\" viewBox=\"0 -960 960 960\">\n",
              "    <path d=\"M120-120v-720h720v720H120Zm60-500h600v-160H180v160Zm220 220h160v-160H400v160Zm0 220h160v-160H400v160ZM180-400h160v-160H180v160Zm440 0h160v-160H620v160ZM180-180h160v-160H180v160Zm440 0h160v-160H620v160Z\"/>\n",
              "  </svg>\n",
              "    </button>\n",
              "\n",
              "  <style>\n",
              "    .colab-df-container {\n",
              "      display:flex;\n",
              "      gap: 12px;\n",
              "    }\n",
              "\n",
              "    .colab-df-convert {\n",
              "      background-color: #E8F0FE;\n",
              "      border: none;\n",
              "      border-radius: 50%;\n",
              "      cursor: pointer;\n",
              "      display: none;\n",
              "      fill: #1967D2;\n",
              "      height: 32px;\n",
              "      padding: 0 0 0 0;\n",
              "      width: 32px;\n",
              "    }\n",
              "\n",
              "    .colab-df-convert:hover {\n",
              "      background-color: #E2EBFA;\n",
              "      box-shadow: 0px 1px 2px rgba(60, 64, 67, 0.3), 0px 1px 3px 1px rgba(60, 64, 67, 0.15);\n",
              "      fill: #174EA6;\n",
              "    }\n",
              "\n",
              "    .colab-df-buttons div {\n",
              "      margin-bottom: 4px;\n",
              "    }\n",
              "\n",
              "    [theme=dark] .colab-df-convert {\n",
              "      background-color: #3B4455;\n",
              "      fill: #D2E3FC;\n",
              "    }\n",
              "\n",
              "    [theme=dark] .colab-df-convert:hover {\n",
              "      background-color: #434B5C;\n",
              "      box-shadow: 0px 1px 3px 1px rgba(0, 0, 0, 0.15);\n",
              "      filter: drop-shadow(0px 1px 2px rgba(0, 0, 0, 0.3));\n",
              "      fill: #FFFFFF;\n",
              "    }\n",
              "  </style>\n",
              "\n",
              "    <script>\n",
              "      const buttonEl =\n",
              "        document.querySelector('#df-d66b8eaf-9a6b-47a7-b698-97f1e14649dd button.colab-df-convert');\n",
              "      buttonEl.style.display =\n",
              "        google.colab.kernel.accessAllowed ? 'block' : 'none';\n",
              "\n",
              "      async function convertToInteractive(key) {\n",
              "        const element = document.querySelector('#df-d66b8eaf-9a6b-47a7-b698-97f1e14649dd');\n",
              "        const dataTable =\n",
              "          await google.colab.kernel.invokeFunction('convertToInteractive',\n",
              "                                                    [key], {});\n",
              "        if (!dataTable) return;\n",
              "\n",
              "        const docLinkHtml = 'Like what you see? Visit the ' +\n",
              "          '<a target=\"_blank\" href=https://colab.research.google.com/notebooks/data_table.ipynb>data table notebook</a>'\n",
              "          + ' to learn more about interactive tables.';\n",
              "        element.innerHTML = '';\n",
              "        dataTable['output_type'] = 'display_data';\n",
              "        await google.colab.output.renderOutput(dataTable, element);\n",
              "        const docLink = document.createElement('div');\n",
              "        docLink.innerHTML = docLinkHtml;\n",
              "        element.appendChild(docLink);\n",
              "      }\n",
              "    </script>\n",
              "  </div>\n",
              "\n",
              "\n",
              "<div id=\"df-31f01609-fc8e-42ca-8aea-ba96df660a42\">\n",
              "  <button class=\"colab-df-quickchart\" onclick=\"quickchart('df-31f01609-fc8e-42ca-8aea-ba96df660a42')\"\n",
              "            title=\"Suggest charts\"\n",
              "            style=\"display:none;\">\n",
              "\n",
              "<svg xmlns=\"http://www.w3.org/2000/svg\" height=\"24px\"viewBox=\"0 0 24 24\"\n",
              "     width=\"24px\">\n",
              "    <g>\n",
              "        <path d=\"M19 3H5c-1.1 0-2 .9-2 2v14c0 1.1.9 2 2 2h14c1.1 0 2-.9 2-2V5c0-1.1-.9-2-2-2zM9 17H7v-7h2v7zm4 0h-2V7h2v10zm4 0h-2v-4h2v4z\"/>\n",
              "    </g>\n",
              "</svg>\n",
              "  </button>\n",
              "\n",
              "<style>\n",
              "  .colab-df-quickchart {\n",
              "      --bg-color: #E8F0FE;\n",
              "      --fill-color: #1967D2;\n",
              "      --hover-bg-color: #E2EBFA;\n",
              "      --hover-fill-color: #174EA6;\n",
              "      --disabled-fill-color: #AAA;\n",
              "      --disabled-bg-color: #DDD;\n",
              "  }\n",
              "\n",
              "  [theme=dark] .colab-df-quickchart {\n",
              "      --bg-color: #3B4455;\n",
              "      --fill-color: #D2E3FC;\n",
              "      --hover-bg-color: #434B5C;\n",
              "      --hover-fill-color: #FFFFFF;\n",
              "      --disabled-bg-color: #3B4455;\n",
              "      --disabled-fill-color: #666;\n",
              "  }\n",
              "\n",
              "  .colab-df-quickchart {\n",
              "    background-color: var(--bg-color);\n",
              "    border: none;\n",
              "    border-radius: 50%;\n",
              "    cursor: pointer;\n",
              "    display: none;\n",
              "    fill: var(--fill-color);\n",
              "    height: 32px;\n",
              "    padding: 0;\n",
              "    width: 32px;\n",
              "  }\n",
              "\n",
              "  .colab-df-quickchart:hover {\n",
              "    background-color: var(--hover-bg-color);\n",
              "    box-shadow: 0 1px 2px rgba(60, 64, 67, 0.3), 0 1px 3px 1px rgba(60, 64, 67, 0.15);\n",
              "    fill: var(--button-hover-fill-color);\n",
              "  }\n",
              "\n",
              "  .colab-df-quickchart-complete:disabled,\n",
              "  .colab-df-quickchart-complete:disabled:hover {\n",
              "    background-color: var(--disabled-bg-color);\n",
              "    fill: var(--disabled-fill-color);\n",
              "    box-shadow: none;\n",
              "  }\n",
              "\n",
              "  .colab-df-spinner {\n",
              "    border: 2px solid var(--fill-color);\n",
              "    border-color: transparent;\n",
              "    border-bottom-color: var(--fill-color);\n",
              "    animation:\n",
              "      spin 1s steps(1) infinite;\n",
              "  }\n",
              "\n",
              "  @keyframes spin {\n",
              "    0% {\n",
              "      border-color: transparent;\n",
              "      border-bottom-color: var(--fill-color);\n",
              "      border-left-color: var(--fill-color);\n",
              "    }\n",
              "    20% {\n",
              "      border-color: transparent;\n",
              "      border-left-color: var(--fill-color);\n",
              "      border-top-color: var(--fill-color);\n",
              "    }\n",
              "    30% {\n",
              "      border-color: transparent;\n",
              "      border-left-color: var(--fill-color);\n",
              "      border-top-color: var(--fill-color);\n",
              "      border-right-color: var(--fill-color);\n",
              "    }\n",
              "    40% {\n",
              "      border-color: transparent;\n",
              "      border-right-color: var(--fill-color);\n",
              "      border-top-color: var(--fill-color);\n",
              "    }\n",
              "    60% {\n",
              "      border-color: transparent;\n",
              "      border-right-color: var(--fill-color);\n",
              "    }\n",
              "    80% {\n",
              "      border-color: transparent;\n",
              "      border-right-color: var(--fill-color);\n",
              "      border-bottom-color: var(--fill-color);\n",
              "    }\n",
              "    90% {\n",
              "      border-color: transparent;\n",
              "      border-bottom-color: var(--fill-color);\n",
              "    }\n",
              "  }\n",
              "</style>\n",
              "\n",
              "  <script>\n",
              "    async function quickchart(key) {\n",
              "      const quickchartButtonEl =\n",
              "        document.querySelector('#' + key + ' button');\n",
              "      quickchartButtonEl.disabled = true;  // To prevent multiple clicks.\n",
              "      quickchartButtonEl.classList.add('colab-df-spinner');\n",
              "      try {\n",
              "        const charts = await google.colab.kernel.invokeFunction(\n",
              "            'suggestCharts', [key], {});\n",
              "      } catch (error) {\n",
              "        console.error('Error during call to suggestCharts:', error);\n",
              "      }\n",
              "      quickchartButtonEl.classList.remove('colab-df-spinner');\n",
              "      quickchartButtonEl.classList.add('colab-df-quickchart-complete');\n",
              "    }\n",
              "    (() => {\n",
              "      let quickchartButtonEl =\n",
              "        document.querySelector('#df-31f01609-fc8e-42ca-8aea-ba96df660a42 button');\n",
              "      quickchartButtonEl.style.display =\n",
              "        google.colab.kernel.accessAllowed ? 'block' : 'none';\n",
              "    })();\n",
              "  </script>\n",
              "</div>\n",
              "    </div>\n",
              "  </div>\n"
            ]
          },
          "metadata": {},
          "execution_count": 39
        }
      ]
    },
    {
      "cell_type": "code",
      "source": [
        "#Particionamos la muestra: una de entrenamiento y otra de testeo\n",
        "X_train, X_test, y_train, y_test = train_test_split(\n",
        "                                        X,\n",
        "                                        Y,\n",
        "                                        test_size=0.3,\n",
        "                                        train_size=0.7,\n",
        "                                        random_state = 123\n",
        "                                    )"
      ],
      "metadata": {
        "id": "cV9H00BQkztu"
      },
      "execution_count": 40,
      "outputs": []
    },
    {
      "cell_type": "code",
      "source": [
        "X_train.head()"
      ],
      "metadata": {
        "colab": {
          "base_uri": "https://localhost:8080/",
          "height": 206
        },
        "id": "mY-tPuBlk5Vs",
        "outputId": "b3d9dc36-c2e5-4204-907f-02df7048992f"
      },
      "execution_count": 41,
      "outputs": [
        {
          "output_type": "execute_result",
          "data": {
            "text/plain": [
              "       age  age2  sex  formal  hoursWorkUsual  educ_primary  educ_secundary  \\\n",
              "7741    43  1849    1       1              48             0               0   \n",
              "22475   32  1024    1       1              72             0               0   \n",
              "13596   19   361    0       0              30             0               0   \n",
              "31707   29   841    0       1              48             0               0   \n",
              "15334   19   361    1       0              48             0               0   \n",
              "\n",
              "       educ_media  educ_univ  educ_nodata  \n",
              "7741            1          0            0  \n",
              "22475           0          1            0  \n",
              "13596           0          1            0  \n",
              "31707           1          0            0  \n",
              "15334           1          0            0  "
            ],
            "text/html": [
              "\n",
              "  <div id=\"df-b4fda291-4f8a-4816-8a78-aa06f7c8327c\" class=\"colab-df-container\">\n",
              "    <div>\n",
              "<style scoped>\n",
              "    .dataframe tbody tr th:only-of-type {\n",
              "        vertical-align: middle;\n",
              "    }\n",
              "\n",
              "    .dataframe tbody tr th {\n",
              "        vertical-align: top;\n",
              "    }\n",
              "\n",
              "    .dataframe thead th {\n",
              "        text-align: right;\n",
              "    }\n",
              "</style>\n",
              "<table border=\"1\" class=\"dataframe\">\n",
              "  <thead>\n",
              "    <tr style=\"text-align: right;\">\n",
              "      <th></th>\n",
              "      <th>age</th>\n",
              "      <th>age2</th>\n",
              "      <th>sex</th>\n",
              "      <th>formal</th>\n",
              "      <th>hoursWorkUsual</th>\n",
              "      <th>educ_primary</th>\n",
              "      <th>educ_secundary</th>\n",
              "      <th>educ_media</th>\n",
              "      <th>educ_univ</th>\n",
              "      <th>educ_nodata</th>\n",
              "    </tr>\n",
              "  </thead>\n",
              "  <tbody>\n",
              "    <tr>\n",
              "      <th>7741</th>\n",
              "      <td>43</td>\n",
              "      <td>1849</td>\n",
              "      <td>1</td>\n",
              "      <td>1</td>\n",
              "      <td>48</td>\n",
              "      <td>0</td>\n",
              "      <td>0</td>\n",
              "      <td>1</td>\n",
              "      <td>0</td>\n",
              "      <td>0</td>\n",
              "    </tr>\n",
              "    <tr>\n",
              "      <th>22475</th>\n",
              "      <td>32</td>\n",
              "      <td>1024</td>\n",
              "      <td>1</td>\n",
              "      <td>1</td>\n",
              "      <td>72</td>\n",
              "      <td>0</td>\n",
              "      <td>0</td>\n",
              "      <td>0</td>\n",
              "      <td>1</td>\n",
              "      <td>0</td>\n",
              "    </tr>\n",
              "    <tr>\n",
              "      <th>13596</th>\n",
              "      <td>19</td>\n",
              "      <td>361</td>\n",
              "      <td>0</td>\n",
              "      <td>0</td>\n",
              "      <td>30</td>\n",
              "      <td>0</td>\n",
              "      <td>0</td>\n",
              "      <td>0</td>\n",
              "      <td>1</td>\n",
              "      <td>0</td>\n",
              "    </tr>\n",
              "    <tr>\n",
              "      <th>31707</th>\n",
              "      <td>29</td>\n",
              "      <td>841</td>\n",
              "      <td>0</td>\n",
              "      <td>1</td>\n",
              "      <td>48</td>\n",
              "      <td>0</td>\n",
              "      <td>0</td>\n",
              "      <td>1</td>\n",
              "      <td>0</td>\n",
              "      <td>0</td>\n",
              "    </tr>\n",
              "    <tr>\n",
              "      <th>15334</th>\n",
              "      <td>19</td>\n",
              "      <td>361</td>\n",
              "      <td>1</td>\n",
              "      <td>0</td>\n",
              "      <td>48</td>\n",
              "      <td>0</td>\n",
              "      <td>0</td>\n",
              "      <td>1</td>\n",
              "      <td>0</td>\n",
              "      <td>0</td>\n",
              "    </tr>\n",
              "  </tbody>\n",
              "</table>\n",
              "</div>\n",
              "    <div class=\"colab-df-buttons\">\n",
              "\n",
              "  <div class=\"colab-df-container\">\n",
              "    <button class=\"colab-df-convert\" onclick=\"convertToInteractive('df-b4fda291-4f8a-4816-8a78-aa06f7c8327c')\"\n",
              "            title=\"Convert this dataframe to an interactive table.\"\n",
              "            style=\"display:none;\">\n",
              "\n",
              "  <svg xmlns=\"http://www.w3.org/2000/svg\" height=\"24px\" viewBox=\"0 -960 960 960\">\n",
              "    <path d=\"M120-120v-720h720v720H120Zm60-500h600v-160H180v160Zm220 220h160v-160H400v160Zm0 220h160v-160H400v160ZM180-400h160v-160H180v160Zm440 0h160v-160H620v160ZM180-180h160v-160H180v160Zm440 0h160v-160H620v160Z\"/>\n",
              "  </svg>\n",
              "    </button>\n",
              "\n",
              "  <style>\n",
              "    .colab-df-container {\n",
              "      display:flex;\n",
              "      gap: 12px;\n",
              "    }\n",
              "\n",
              "    .colab-df-convert {\n",
              "      background-color: #E8F0FE;\n",
              "      border: none;\n",
              "      border-radius: 50%;\n",
              "      cursor: pointer;\n",
              "      display: none;\n",
              "      fill: #1967D2;\n",
              "      height: 32px;\n",
              "      padding: 0 0 0 0;\n",
              "      width: 32px;\n",
              "    }\n",
              "\n",
              "    .colab-df-convert:hover {\n",
              "      background-color: #E2EBFA;\n",
              "      box-shadow: 0px 1px 2px rgba(60, 64, 67, 0.3), 0px 1px 3px 1px rgba(60, 64, 67, 0.15);\n",
              "      fill: #174EA6;\n",
              "    }\n",
              "\n",
              "    .colab-df-buttons div {\n",
              "      margin-bottom: 4px;\n",
              "    }\n",
              "\n",
              "    [theme=dark] .colab-df-convert {\n",
              "      background-color: #3B4455;\n",
              "      fill: #D2E3FC;\n",
              "    }\n",
              "\n",
              "    [theme=dark] .colab-df-convert:hover {\n",
              "      background-color: #434B5C;\n",
              "      box-shadow: 0px 1px 3px 1px rgba(0, 0, 0, 0.15);\n",
              "      filter: drop-shadow(0px 1px 2px rgba(0, 0, 0, 0.3));\n",
              "      fill: #FFFFFF;\n",
              "    }\n",
              "  </style>\n",
              "\n",
              "    <script>\n",
              "      const buttonEl =\n",
              "        document.querySelector('#df-b4fda291-4f8a-4816-8a78-aa06f7c8327c button.colab-df-convert');\n",
              "      buttonEl.style.display =\n",
              "        google.colab.kernel.accessAllowed ? 'block' : 'none';\n",
              "\n",
              "      async function convertToInteractive(key) {\n",
              "        const element = document.querySelector('#df-b4fda291-4f8a-4816-8a78-aa06f7c8327c');\n",
              "        const dataTable =\n",
              "          await google.colab.kernel.invokeFunction('convertToInteractive',\n",
              "                                                    [key], {});\n",
              "        if (!dataTable) return;\n",
              "\n",
              "        const docLinkHtml = 'Like what you see? Visit the ' +\n",
              "          '<a target=\"_blank\" href=https://colab.research.google.com/notebooks/data_table.ipynb>data table notebook</a>'\n",
              "          + ' to learn more about interactive tables.';\n",
              "        element.innerHTML = '';\n",
              "        dataTable['output_type'] = 'display_data';\n",
              "        await google.colab.output.renderOutput(dataTable, element);\n",
              "        const docLink = document.createElement('div');\n",
              "        docLink.innerHTML = docLinkHtml;\n",
              "        element.appendChild(docLink);\n",
              "      }\n",
              "    </script>\n",
              "  </div>\n",
              "\n",
              "\n",
              "<div id=\"df-d7537cb6-1138-4953-b825-17e06921cebd\">\n",
              "  <button class=\"colab-df-quickchart\" onclick=\"quickchart('df-d7537cb6-1138-4953-b825-17e06921cebd')\"\n",
              "            title=\"Suggest charts\"\n",
              "            style=\"display:none;\">\n",
              "\n",
              "<svg xmlns=\"http://www.w3.org/2000/svg\" height=\"24px\"viewBox=\"0 0 24 24\"\n",
              "     width=\"24px\">\n",
              "    <g>\n",
              "        <path d=\"M19 3H5c-1.1 0-2 .9-2 2v14c0 1.1.9 2 2 2h14c1.1 0 2-.9 2-2V5c0-1.1-.9-2-2-2zM9 17H7v-7h2v7zm4 0h-2V7h2v10zm4 0h-2v-4h2v4z\"/>\n",
              "    </g>\n",
              "</svg>\n",
              "  </button>\n",
              "\n",
              "<style>\n",
              "  .colab-df-quickchart {\n",
              "      --bg-color: #E8F0FE;\n",
              "      --fill-color: #1967D2;\n",
              "      --hover-bg-color: #E2EBFA;\n",
              "      --hover-fill-color: #174EA6;\n",
              "      --disabled-fill-color: #AAA;\n",
              "      --disabled-bg-color: #DDD;\n",
              "  }\n",
              "\n",
              "  [theme=dark] .colab-df-quickchart {\n",
              "      --bg-color: #3B4455;\n",
              "      --fill-color: #D2E3FC;\n",
              "      --hover-bg-color: #434B5C;\n",
              "      --hover-fill-color: #FFFFFF;\n",
              "      --disabled-bg-color: #3B4455;\n",
              "      --disabled-fill-color: #666;\n",
              "  }\n",
              "\n",
              "  .colab-df-quickchart {\n",
              "    background-color: var(--bg-color);\n",
              "    border: none;\n",
              "    border-radius: 50%;\n",
              "    cursor: pointer;\n",
              "    display: none;\n",
              "    fill: var(--fill-color);\n",
              "    height: 32px;\n",
              "    padding: 0;\n",
              "    width: 32px;\n",
              "  }\n",
              "\n",
              "  .colab-df-quickchart:hover {\n",
              "    background-color: var(--hover-bg-color);\n",
              "    box-shadow: 0 1px 2px rgba(60, 64, 67, 0.3), 0 1px 3px 1px rgba(60, 64, 67, 0.15);\n",
              "    fill: var(--button-hover-fill-color);\n",
              "  }\n",
              "\n",
              "  .colab-df-quickchart-complete:disabled,\n",
              "  .colab-df-quickchart-complete:disabled:hover {\n",
              "    background-color: var(--disabled-bg-color);\n",
              "    fill: var(--disabled-fill-color);\n",
              "    box-shadow: none;\n",
              "  }\n",
              "\n",
              "  .colab-df-spinner {\n",
              "    border: 2px solid var(--fill-color);\n",
              "    border-color: transparent;\n",
              "    border-bottom-color: var(--fill-color);\n",
              "    animation:\n",
              "      spin 1s steps(1) infinite;\n",
              "  }\n",
              "\n",
              "  @keyframes spin {\n",
              "    0% {\n",
              "      border-color: transparent;\n",
              "      border-bottom-color: var(--fill-color);\n",
              "      border-left-color: var(--fill-color);\n",
              "    }\n",
              "    20% {\n",
              "      border-color: transparent;\n",
              "      border-left-color: var(--fill-color);\n",
              "      border-top-color: var(--fill-color);\n",
              "    }\n",
              "    30% {\n",
              "      border-color: transparent;\n",
              "      border-left-color: var(--fill-color);\n",
              "      border-top-color: var(--fill-color);\n",
              "      border-right-color: var(--fill-color);\n",
              "    }\n",
              "    40% {\n",
              "      border-color: transparent;\n",
              "      border-right-color: var(--fill-color);\n",
              "      border-top-color: var(--fill-color);\n",
              "    }\n",
              "    60% {\n",
              "      border-color: transparent;\n",
              "      border-right-color: var(--fill-color);\n",
              "    }\n",
              "    80% {\n",
              "      border-color: transparent;\n",
              "      border-right-color: var(--fill-color);\n",
              "      border-bottom-color: var(--fill-color);\n",
              "    }\n",
              "    90% {\n",
              "      border-color: transparent;\n",
              "      border-bottom-color: var(--fill-color);\n",
              "    }\n",
              "  }\n",
              "</style>\n",
              "\n",
              "  <script>\n",
              "    async function quickchart(key) {\n",
              "      const quickchartButtonEl =\n",
              "        document.querySelector('#' + key + ' button');\n",
              "      quickchartButtonEl.disabled = true;  // To prevent multiple clicks.\n",
              "      quickchartButtonEl.classList.add('colab-df-spinner');\n",
              "      try {\n",
              "        const charts = await google.colab.kernel.invokeFunction(\n",
              "            'suggestCharts', [key], {});\n",
              "      } catch (error) {\n",
              "        console.error('Error during call to suggestCharts:', error);\n",
              "      }\n",
              "      quickchartButtonEl.classList.remove('colab-df-spinner');\n",
              "      quickchartButtonEl.classList.add('colab-df-quickchart-complete');\n",
              "    }\n",
              "    (() => {\n",
              "      let quickchartButtonEl =\n",
              "        document.querySelector('#df-d7537cb6-1138-4953-b825-17e06921cebd button');\n",
              "      quickchartButtonEl.style.display =\n",
              "        google.colab.kernel.accessAllowed ? 'block' : 'none';\n",
              "    })();\n",
              "  </script>\n",
              "</div>\n",
              "    </div>\n",
              "  </div>\n"
            ]
          },
          "metadata": {},
          "execution_count": 41
        }
      ]
    },
    {
      "cell_type": "code",
      "source": [
        "#Modelo 1 en base a solo constante\n",
        "X0 = np.ones((len(y_train), 1))\n",
        "model1=  LinearRegression().fit(X0,y_train)\n",
        "model1.intercept_"
      ],
      "metadata": {
        "id": "MzqVsOPzlF8O",
        "colab": {
          "base_uri": "https://localhost:8080/"
        },
        "outputId": "c9f62911-8aa3-41f0-e5cb-0c63d22337d8"
      },
      "execution_count": 42,
      "outputs": [
        {
          "output_type": "execute_result",
          "data": {
            "text/plain": [
              "array([8.63182063])"
            ]
          },
          "metadata": {},
          "execution_count": 42
        }
      ]
    },
    {
      "cell_type": "code",
      "source": [
        "y_train.mean()"
      ],
      "metadata": {
        "id": "IhlQIWAawtcV",
        "colab": {
          "base_uri": "https://localhost:8080/"
        },
        "outputId": "83b51b37-27ed-49ce-96b6-55edaa35d2c1"
      },
      "execution_count": 43,
      "outputs": [
        {
          "output_type": "execute_result",
          "data": {
            "text/plain": [
              "ingresos_log    8.631821\n",
              "dtype: float64"
            ]
          },
          "metadata": {},
          "execution_count": 43
        }
      ]
    },
    {
      "cell_type": "code",
      "source": [
        "#Predecimos en la nueva data\n",
        "X0_test = np.ones((len(y_test), 1))\n",
        "y_hat_model1 = model1.predict(X0_test)"
      ],
      "metadata": {
        "id": "MjWKfY4HwwVg"
      },
      "execution_count": 44,
      "outputs": []
    },
    {
      "cell_type": "code",
      "source": [
        "from sklearn.metrics import mean_squared_error\n",
        "\n",
        "# Calculamos MSE\n",
        "mse1 = mean_squared_error(y_test, y_hat_model1)\n",
        "\n",
        "print(f'Mean Squared Error: {mse1}')"
      ],
      "metadata": {
        "id": "gf9rD5Ilw1lS",
        "colab": {
          "base_uri": "https://localhost:8080/"
        },
        "outputId": "6f131488-fe0d-4034-eaed-0ff77eecc936"
      },
      "execution_count": 45,
      "outputs": [
        {
          "output_type": "stream",
          "name": "stdout",
          "text": [
            "Mean Squared Error: 0.5244232709631309\n"
          ]
        }
      ]
    },
    {
      "cell_type": "code",
      "source": [
        "#Creamos Modelo 2 con dos covariables y replicamos mismos pasos que antes\n",
        "model2=  LinearRegression().fit(X_train[['age', 'age2']],y_train)\n",
        "model2.coef_"
      ],
      "metadata": {
        "id": "e-eu0hPWxC3X",
        "colab": {
          "base_uri": "https://localhost:8080/"
        },
        "outputId": "f33e2ba2-de02-4264-d49b-5c81fccc9460"
      },
      "execution_count": 46,
      "outputs": [
        {
          "output_type": "execute_result",
          "data": {
            "text/plain": [
              "array([[ 0.05857337, -0.00063439]])"
            ]
          },
          "metadata": {},
          "execution_count": 46
        }
      ]
    },
    {
      "cell_type": "code",
      "source": [
        "y_hat_model2 = model2.predict(X_test[['age', 'age2']])"
      ],
      "metadata": {
        "id": "t29a5hg-xIwG"
      },
      "execution_count": 47,
      "outputs": []
    },
    {
      "cell_type": "code",
      "source": [
        "mse2 = mean_squared_error(y_test, y_hat_model2)\n",
        "\n",
        "print(f'Mean Squared Error: {mse2}')"
      ],
      "metadata": {
        "id": "vOOS9vqrxL8C",
        "colab": {
          "base_uri": "https://localhost:8080/"
        },
        "outputId": "89630be7-ba98-4d61-d520-8f4db877dbb0"
      },
      "execution_count": 48,
      "outputs": [
        {
          "output_type": "stream",
          "name": "stdout",
          "text": [
            "Mean Squared Error: 0.5070420847452832\n"
          ]
        }
      ]
    },
    {
      "cell_type": "code",
      "source": [
        "#Creamos Modelo 3 y replicamos mismos pasos que antes\n",
        "\n",
        "model3=  LinearRegression().fit(X_train[['age', \"age2\", \"hoursWorkUsual\"]],y_train)\n",
        "model3.coef_"
      ],
      "metadata": {
        "colab": {
          "base_uri": "https://localhost:8080/"
        },
        "id": "JSoaENw8k36l",
        "outputId": "557311fa-3b5e-4cee-c01d-f5110256beb0"
      },
      "execution_count": 49,
      "outputs": [
        {
          "output_type": "execute_result",
          "data": {
            "text/plain": [
              "array([[ 0.06560475, -0.00073031, -0.01240606]])"
            ]
          },
          "metadata": {},
          "execution_count": 49
        }
      ]
    },
    {
      "cell_type": "code",
      "source": [
        "y_hat_model3 = model3.predict(X_test[['age', \"age2\", \"hoursWorkUsual\"]])"
      ],
      "metadata": {
        "id": "0k3lCJTYlGKg"
      },
      "execution_count": 50,
      "outputs": []
    },
    {
      "cell_type": "code",
      "source": [
        "mse3 = mean_squared_error(y_test, y_hat_model3)\n",
        "\n",
        "print(f'Mean Squared Error: {mse3}')"
      ],
      "metadata": {
        "colab": {
          "base_uri": "https://localhost:8080/"
        },
        "id": "8RoGTohRk_tg",
        "outputId": "6fac68c2-4b00-43d5-8998-1558f29c4653"
      },
      "execution_count": 51,
      "outputs": [
        {
          "output_type": "stream",
          "name": "stdout",
          "text": [
            "Mean Squared Error: 0.47848854348284486\n"
          ]
        }
      ]
    },
    {
      "cell_type": "code",
      "source": [
        "#Creamos Modelo 4 y replicamos mismos pasos que antes\n",
        "\n",
        "model4=  LinearRegression().fit(X_train[['age', \"age2\", \"sex\", \"hoursWorkUsual\"]],y_train)\n",
        "model4.coef_"
      ],
      "metadata": {
        "colab": {
          "base_uri": "https://localhost:8080/"
        },
        "id": "4zLNq0CZlSWW",
        "outputId": "839fc072-ceee-41c1-c878-a5d28def8c9e"
      },
      "execution_count": 52,
      "outputs": [
        {
          "output_type": "execute_result",
          "data": {
            "text/plain": [
              "array([[ 0.0671168 , -0.00074849,  0.10916378, -0.01324467]])"
            ]
          },
          "metadata": {},
          "execution_count": 52
        }
      ]
    },
    {
      "cell_type": "code",
      "source": [
        "y_hat_model4 = model4.predict(X_test[['age', \"age2\", \"sex\", \"hoursWorkUsual\"]])"
      ],
      "metadata": {
        "id": "5H6WGSmYlSex"
      },
      "execution_count": 53,
      "outputs": []
    },
    {
      "cell_type": "code",
      "source": [
        "mse4 = mean_squared_error(y_test, y_hat_model4)\n",
        "\n",
        "print(f'Mean Squared Error: {mse4}')"
      ],
      "metadata": {
        "colab": {
          "base_uri": "https://localhost:8080/"
        },
        "id": "HL3w0fSMlSml",
        "outputId": "fb22993b-3d86-4e26-b150-2e46e3b2fbb1"
      },
      "execution_count": 54,
      "outputs": [
        {
          "output_type": "stream",
          "name": "stdout",
          "text": [
            "Mean Squared Error: 0.4737798508068708\n"
          ]
        }
      ]
    },
    {
      "cell_type": "code",
      "source": [
        "#Creamos Modelo 5 y replicamos mismos pasos que antes\n",
        "\n",
        "model5=  LinearRegression().fit(X_train[['age', \"age2\", \"sex\", \"formal\", \"hoursWorkUsual\"]],y_train)\n",
        "model5.coef_"
      ],
      "metadata": {
        "colab": {
          "base_uri": "https://localhost:8080/"
        },
        "id": "8lBADD6Tlm7_",
        "outputId": "590819c0-0f63-4ccc-d976-0197d2b95d62"
      },
      "execution_count": 55,
      "outputs": [
        {
          "output_type": "execute_result",
          "data": {
            "text/plain": [
              "array([[ 4.80570445e-02, -5.18217678e-04,  9.47066500e-02,\n",
              "         5.95693003e-01, -1.45266382e-02]])"
            ]
          },
          "metadata": {},
          "execution_count": 55
        }
      ]
    },
    {
      "cell_type": "code",
      "source": [
        "y_hat_model5 = model5.predict(X_test[['age', \"age2\", \"sex\", \"formal\", \"hoursWorkUsual\"]])"
      ],
      "metadata": {
        "id": "yKvcgYvilnGp"
      },
      "execution_count": 56,
      "outputs": []
    },
    {
      "cell_type": "code",
      "source": [
        "mse5 = mean_squared_error(y_test, y_hat_model5)\n",
        "\n",
        "print(f'Mean Squared Error: {mse5}')"
      ],
      "metadata": {
        "colab": {
          "base_uri": "https://localhost:8080/"
        },
        "id": "NTgBgmtflnOl",
        "outputId": "959262d5-c9e4-4d38-abfb-e3fe45c4a1a5"
      },
      "execution_count": 57,
      "outputs": [
        {
          "output_type": "stream",
          "name": "stdout",
          "text": [
            "Mean Squared Error: 0.41125674981824334\n"
          ]
        }
      ]
    },
    {
      "cell_type": "code",
      "source": [
        "#Creamos Modelo 6 y replicamos mismos pasos que antes\n",
        "\n",
        "model6=  LinearRegression().fit(X_train[[\"age\", \"age2\", \"sex\", \"formal\", \"educ_primary\", \"educ_secundary\", \"educ_media\", \"educ_univ\", \"educ_nodata\", \"hoursWorkUsual\"]],y_train)\n",
        "model6.coef_\n"
      ],
      "metadata": {
        "id": "l5QMGirfxUa4",
        "colab": {
          "base_uri": "https://localhost:8080/"
        },
        "outputId": "0e489a2e-7749-4a70-fe57-4e15a9d226a4"
      },
      "execution_count": 58,
      "outputs": [
        {
          "output_type": "execute_result",
          "data": {
            "text/plain": [
              "array([[ 5.15602333e-02, -4.83805047e-04,  1.58661482e-01,\n",
              "         3.67264696e-01,  2.51766551e-01,  2.98979999e-01,\n",
              "         4.18321542e-01,  1.03411224e+00,  6.03177025e-02,\n",
              "        -1.06810091e-02]])"
            ]
          },
          "metadata": {},
          "execution_count": 58
        }
      ]
    },
    {
      "cell_type": "code",
      "source": [
        "y_hat_model6 = model6.predict(X_test[[\"age\", \"age2\", \"sex\", \"formal\", \"educ_primary\", \"educ_secundary\", \"educ_media\", \"educ_univ\", \"educ_nodata\", \"hoursWorkUsual\"]])\n",
        "mse6 = mean_squared_error(y_test, y_hat_model6)\n",
        "\n",
        "print(f'Mean Squared Error: {mse6}')"
      ],
      "metadata": {
        "id": "4M2hGdCvxUpM",
        "colab": {
          "base_uri": "https://localhost:8080/"
        },
        "outputId": "49a3a719-1d02-4ddf-c572-40f7dd795208"
      },
      "execution_count": 59,
      "outputs": [
        {
          "output_type": "stream",
          "name": "stdout",
          "text": [
            "Mean Squared Error: 0.3106732062084532\n"
          ]
        }
      ]
    },
    {
      "cell_type": "code",
      "source": [
        "from sklearn.preprocessing import PolynomialFeatures\n",
        "\n",
        "?PolynomialFeatures"
      ],
      "metadata": {
        "id": "fsRwhhy7xZQx"
      },
      "execution_count": 60,
      "outputs": []
    },
    {
      "cell_type": "code",
      "source": [
        "#Ahora creamos los 4 modelos restantes pero con mayor complejidad generando distintas combinaciones polinómicas\n",
        "##Creamos Modelo 7 con combinaciones polinómicas de grado 2\n",
        "poly2 = PolynomialFeatures(degree=2)\n",
        "X_train_poly2 = poly2.fit_transform(X_train)\n",
        "model7 =  LinearRegression().fit(X_train_poly2,y_train)"
      ],
      "metadata": {
        "id": "wfF3o3Z_gMuT"
      },
      "execution_count": 61,
      "outputs": []
    },
    {
      "cell_type": "code",
      "source": [
        "X_test_poly2 = poly2.fit_transform(X_test)\n",
        "y_hat_model7 = model7.predict(X_test_poly2)\n",
        "mse7 = mean_squared_error(y_test, y_hat_model7)\n",
        "print(f'Mean Squared Error: {mse7}')"
      ],
      "metadata": {
        "colab": {
          "base_uri": "https://localhost:8080/"
        },
        "id": "Dxp9E4aPgSvQ",
        "outputId": "329dc960-26c7-4588-fbe2-0d297a3759ee"
      },
      "execution_count": 62,
      "outputs": [
        {
          "output_type": "stream",
          "name": "stdout",
          "text": [
            "Mean Squared Error: 0.2767254262608403\n"
          ]
        }
      ]
    },
    {
      "cell_type": "code",
      "source": [
        "#Ver cantidad de covariables usadas en el Modelo\n",
        "feature_names = poly2.get_feature_names_out()\n",
        "print(\"Nombres de características:\", feature_names)\n",
        "print(\"Número total de variables:\", len(feature_names))"
      ],
      "metadata": {
        "colab": {
          "base_uri": "https://localhost:8080/"
        },
        "id": "HVYa9Dz2CWx5",
        "outputId": "ea72805a-5f56-4e3d-f8ad-5ae294d4fa91"
      },
      "execution_count": 63,
      "outputs": [
        {
          "output_type": "stream",
          "name": "stdout",
          "text": [
            "Nombres de características: ['1' 'age' 'age2' 'sex' 'formal' 'hoursWorkUsual' 'educ_primary'\n",
            " 'educ_secundary' 'educ_media' 'educ_univ' 'educ_nodata' 'age^2'\n",
            " 'age age2' 'age sex' 'age formal' 'age hoursWorkUsual' 'age educ_primary'\n",
            " 'age educ_secundary' 'age educ_media' 'age educ_univ' 'age educ_nodata'\n",
            " 'age2^2' 'age2 sex' 'age2 formal' 'age2 hoursWorkUsual'\n",
            " 'age2 educ_primary' 'age2 educ_secundary' 'age2 educ_media'\n",
            " 'age2 educ_univ' 'age2 educ_nodata' 'sex^2' 'sex formal'\n",
            " 'sex hoursWorkUsual' 'sex educ_primary' 'sex educ_secundary'\n",
            " 'sex educ_media' 'sex educ_univ' 'sex educ_nodata' 'formal^2'\n",
            " 'formal hoursWorkUsual' 'formal educ_primary' 'formal educ_secundary'\n",
            " 'formal educ_media' 'formal educ_univ' 'formal educ_nodata'\n",
            " 'hoursWorkUsual^2' 'hoursWorkUsual educ_primary'\n",
            " 'hoursWorkUsual educ_secundary' 'hoursWorkUsual educ_media'\n",
            " 'hoursWorkUsual educ_univ' 'hoursWorkUsual educ_nodata' 'educ_primary^2'\n",
            " 'educ_primary educ_secundary' 'educ_primary educ_media'\n",
            " 'educ_primary educ_univ' 'educ_primary educ_nodata' 'educ_secundary^2'\n",
            " 'educ_secundary educ_media' 'educ_secundary educ_univ'\n",
            " 'educ_secundary educ_nodata' 'educ_media^2' 'educ_media educ_univ'\n",
            " 'educ_media educ_nodata' 'educ_univ^2' 'educ_univ educ_nodata'\n",
            " 'educ_nodata^2']\n",
            "Número total de variables: 66\n"
          ]
        }
      ]
    },
    {
      "cell_type": "code",
      "source": [
        "##Creamos Modelo 8 con combinaciones polinómicas de grado 4\n",
        "poly4 = PolynomialFeatures(degree=4)\n",
        "X_train_poly4 = poly4.fit_transform(X_train)\n",
        "model8 =  LinearRegression().fit(X_train_poly4,y_train)"
      ],
      "metadata": {
        "id": "VlS3MO39gYR9"
      },
      "execution_count": 64,
      "outputs": []
    },
    {
      "cell_type": "code",
      "source": [
        "X_test_poly4 = poly4.fit_transform(X_test)\n",
        "y_hat_model8 = model8.predict(X_test_poly4)\n",
        "mse8 = mean_squared_error(y_test, y_hat_model8)\n",
        "print(f'Mean Squared Error: {mse8}')"
      ],
      "metadata": {
        "colab": {
          "base_uri": "https://localhost:8080/"
        },
        "id": "Hq6IjR9oiVgi",
        "outputId": "cb90b3b0-a726-4ed1-9fc4-7e4f79cd0b17"
      },
      "execution_count": 65,
      "outputs": [
        {
          "output_type": "stream",
          "name": "stdout",
          "text": [
            "Mean Squared Error: 0.6834307830978328\n"
          ]
        }
      ]
    },
    {
      "cell_type": "code",
      "source": [
        "feature_names = poly4.get_feature_names_out()\n",
        "print(\"Nombres de características:\", feature_names)\n",
        "print(\"Número total de variables:\", len(feature_names))"
      ],
      "metadata": {
        "colab": {
          "base_uri": "https://localhost:8080/"
        },
        "id": "wsClqnhLCM4F",
        "outputId": "140ae723-78ea-44fa-f92c-4570719331ff"
      },
      "execution_count": 66,
      "outputs": [
        {
          "output_type": "stream",
          "name": "stdout",
          "text": [
            "Nombres de características: ['1' 'age' 'age2' ... 'educ_univ^2 educ_nodata^2'\n",
            " 'educ_univ educ_nodata^3' 'educ_nodata^4']\n",
            "Número total de variables: 1001\n"
          ]
        }
      ]
    },
    {
      "cell_type": "code",
      "source": [
        "##Creamos Modelo 9 con combinaciones polinómicas de grado 5\n",
        "poly5 = PolynomialFeatures(degree=5)\n",
        "X_train_poly5 = poly5.fit_transform(X_train)\n",
        "model9 =  LinearRegression().fit(X_train_poly5,y_train)"
      ],
      "metadata": {
        "id": "d2I3bsBUiXn9"
      },
      "execution_count": 67,
      "outputs": []
    },
    {
      "cell_type": "code",
      "source": [
        "X_test_poly5 = poly5.fit_transform(X_test)\n",
        "y_hat_model9 = model9.predict(X_test_poly5)\n",
        "mse9 = mean_squared_error(y_test, y_hat_model9)\n",
        "print(f'Mean Squared Error: {mse9}')"
      ],
      "metadata": {
        "colab": {
          "base_uri": "https://localhost:8080/"
        },
        "id": "tLoKwSBCilG4",
        "outputId": "20ee2c1d-dfea-46f4-d5b1-d2a0e5de9286"
      },
      "execution_count": 68,
      "outputs": [
        {
          "output_type": "stream",
          "name": "stdout",
          "text": [
            "Mean Squared Error: 3.9691838992554853\n"
          ]
        }
      ]
    },
    {
      "cell_type": "code",
      "source": [
        "feature_names = poly5.get_feature_names_out()\n",
        "print(\"Nombres de características:\", feature_names)\n",
        "print(\"Número total de variables:\", len(feature_names))"
      ],
      "metadata": {
        "colab": {
          "base_uri": "https://localhost:8080/"
        },
        "id": "iJsBg9v4CHWj",
        "outputId": "d33b9693-f9a8-4cc4-ab2d-a340e0dd28d9"
      },
      "execution_count": 69,
      "outputs": [
        {
          "output_type": "stream",
          "name": "stdout",
          "text": [
            "Nombres de características: ['1' 'age' 'age2' ... 'educ_univ^2 educ_nodata^3'\n",
            " 'educ_univ educ_nodata^4' 'educ_nodata^5']\n",
            "Número total de variables: 3003\n"
          ]
        }
      ]
    },
    {
      "cell_type": "code",
      "source": [
        "##Creamos Modelo 10 con combinaciones polinómicas de grado 6\n",
        "poly6 = PolynomialFeatures(degree=6)\n",
        "X_train_poly6 = poly6.fit_transform(X_train)\n",
        "model10 =  LinearRegression().fit(X_train_poly6,y_train)"
      ],
      "metadata": {
        "id": "XbHqShvBipyA"
      },
      "execution_count": 70,
      "outputs": []
    },
    {
      "cell_type": "code",
      "source": [
        "X_test_poly6 = poly6.fit_transform(X_test)\n",
        "y_hat_model10 = model10.predict(X_test_poly6)\n",
        "mse10 = mean_squared_error(y_test, y_hat_model10)\n",
        "print(f'Mean Squared Error: {mse10}')"
      ],
      "metadata": {
        "colab": {
          "base_uri": "https://localhost:8080/"
        },
        "id": "KWwceSrOi6GS",
        "outputId": "3fd00fa3-7a36-4aa5-c316-3140da78444e"
      },
      "execution_count": 71,
      "outputs": [
        {
          "output_type": "stream",
          "name": "stdout",
          "text": [
            "Mean Squared Error: 20.34603529849248\n"
          ]
        }
      ]
    },
    {
      "cell_type": "code",
      "source": [
        "feature_names = poly6.get_feature_names_out()\n",
        "print(\"Nombres de características:\", feature_names)\n",
        "print(\"Número total de variables:\", len(feature_names))"
      ],
      "metadata": {
        "colab": {
          "base_uri": "https://localhost:8080/"
        },
        "id": "g_gnUlXECBLA",
        "outputId": "fa438925-4980-4e5c-c730-f62bc7074667"
      },
      "execution_count": 72,
      "outputs": [
        {
          "output_type": "stream",
          "name": "stdout",
          "text": [
            "Nombres de características: ['1' 'age' 'age2' ... 'educ_univ^2 educ_nodata^4'\n",
            " 'educ_univ educ_nodata^5' 'educ_nodata^6']\n",
            "Número total de variables: 8008\n"
          ]
        }
      ]
    },
    {
      "cell_type": "code",
      "source": [
        "#Para graficar las distribuciones de los errores predictivos por fuera de muestra\n",
        "import seaborn as sns\n",
        "import matplotlib.pyplot as plt\n",
        "\n",
        "# Lista de errores para cada modelo\n",
        "errors_list = [y_test - y_hat_model1, y_test - y_hat_model2, y_test - y_hat_model3,\n",
        "               y_test - y_hat_model4, y_test - y_hat_model5, y_test - y_hat_model6,\n",
        "               y_test - y_hat_model7, y_test - y_hat_model8, y_test - y_hat_model9,\n",
        "               y_test - y_hat_model10]\n",
        "\n",
        "# Configuración de la cuadrícula de subgráficos\n",
        "rows = 5  # Número de filas en la cuadrícula\n",
        "cols = 2  # Número de columnas en la cuadrícula\n",
        "\n",
        "# Crear la cuadrícula de subgráficos\n",
        "fig, axes = plt.subplots(rows, cols, figsize=(15, 15))\n",
        "\n",
        "# Aplanar el arreglo de subgráficos para facilitar el acceso\n",
        "axes = axes.flatten()\n",
        "\n",
        "# Iterar sobre cada modelo y crear un histograma en su subgráfico correspondiente\n",
        "for i, errors in enumerate(errors_list):\n",
        "    sns.histplot(errors, bins=30, kde=True, ax=axes[i], color='C'+str(i))\n",
        "    axes[i].set_title(f'Modelo {i+1}')\n",
        "    axes[i].set_xlabel('Error de Predicción')\n",
        "    axes[i].set_ylabel('Frecuencia')\n",
        "\n",
        "# Ajustar el diseño\n",
        "plt.tight_layout()\n",
        "plt.show()\n"
      ],
      "metadata": {
        "colab": {
          "base_uri": "https://localhost:8080/",
          "height": 1000
        },
        "id": "IjHfuHXzt6Jk",
        "outputId": "743ab4a5-d81d-41f7-fab2-ad78a8b0fcb7"
      },
      "execution_count": 73,
      "outputs": [
        {
          "output_type": "display_data",
          "data": {
            "text/plain": [
              "<Figure size 1500x1500 with 10 Axes>"
            ],
            "image/png": "[encoded data removed]"
          },
          "metadata": {}
        }
      ]
    },
    {
      "cell_type": "code",
      "source": [
        "#Calculamos el error nuecamente para los modelos con menor MSE pero ahora con técnica LOOCV\n",
        "from sklearn.model_selection import cross_val_score, LeaveOneOut\n",
        "from sklearn.linear_model import LinearRegression\n",
        "from sklearn.preprocessing import PolynomialFeatures\n",
        "from sklearn.metrics import mean_squared_error\n",
        "import numpy as np\n",
        "\n",
        "poly7 = PolynomialFeatures(degree=2)\n",
        "X_train_poly7 = poly7.fit_transform(X_train)\n",
        "\n",
        "poly8 = PolynomialFeatures(degree=4)\n",
        "X_train_poly8 = poly8.fit_transform(X_train)\n",
        "\n",
        "# Crear generador LOOCV\n",
        "loo = LeaveOneOut()\n",
        "\n",
        "# Calcular error predictivo para el Modelo 7\n",
        "mse_model7 = cross_val_score(model7, X_train_poly7, y_train, scoring='neg_mean_squared_error', cv=loo)\n",
        "mean_mse_model7 = np.mean(-mse_model7)\n",
        "\n",
        "# Calcular error predictivo para el Modelo 8\n",
        "mse_model8 = cross_val_score(model8, X_train_poly8, y_train, scoring='neg_mean_squared_error', cv=loo)\n",
        "mean_mse_model8 = np.mean(-mse_model8)\n",
        "\n",
        "print(f'Mean Squared Error (LOOCV) for Model 7: {mean_mse_model7}')\n",
        "print(f'Mean Squared Error (LOOCV) for Model 8: {mean_mse_model8}')\n"
      ],
      "metadata": {
        "colab": {
          "base_uri": "https://localhost:8080/"
        },
        "id": "ZFPM22Ouljkh",
        "outputId": "1890dedd-62a4-4b66-c108-04ee63f2e6ac"
      },
      "execution_count": 74,
      "outputs": [
        {
          "output_type": "stream",
          "name": "stdout",
          "text": [
            "Mean Squared Error (LOOCV) for Model 7: 0.28508081073106245\n",
            "Mean Squared Error (LOOCV) for Model 8: 1.6401728445824997\n"
          ]
        }
      ]
    }
  ],
  "metadata": {
    "colab": {
      "provenance": []
    },
    "kernelspec": {
      "display_name": "Python 3",
      "name": "python3"
    },
    "language_info": {
      "name": "python"
    }
  },
  "nbformat": 4,
  "nbformat_minor": 0
}